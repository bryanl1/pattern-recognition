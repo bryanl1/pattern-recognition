{
  "cells": [
    {
      "cell_type": "markdown",
      "id": "55e6b918-afac-43e8-b338-43f8ac64014f",
      "metadata": {
        "id": "55e6b918-afac-43e8-b338-43f8ac64014f"
      },
      "source": [
        "##  Deep Neural Networks Project"
      ]
    },
    {
      "cell_type": "markdown",
      "id": "1a8e066d-2849-4a6e-9c71-bb98d605ae07",
      "metadata": {
        "id": "1a8e066d-2849-4a6e-9c71-bb98d605ae07"
      },
      "source": [
        "In this project, you will be working with a real-world data set from the Las Vegas Metropolitan Police Department. The dataset  contains information about the reported incidents, including the time and location of the crime, type of incident, and number of persons involved."
      ]
    },
    {
      "cell_type": "markdown",
      "id": "9e87fac7-352a-4c39-b087-76254b5e2743",
      "metadata": {
        "id": "9e87fac7-352a-4c39-b087-76254b5e2743"
      },
      "source": [
        "The dataset is downloaded from the public docket at:\n",
        "https://opendata-lvmpd.hub.arcgis.com\n",
        "\n",
        "let's read the csv file and transform the data:"
      ]
    },
    {
      "cell_type": "code",
      "execution_count": null,
      "id": "637211a4-582f-426b-a127-c3f284463f35",
      "metadata": {
        "id": "637211a4-582f-426b-a127-c3f284463f35"
      },
      "outputs": [],
      "source": [
        "import torch\n",
        "import pandas as pd\n",
        "from torch.utils.data import DataLoader, Dataset\n",
        "import matplotlib.pyplot as plt\n",
        "import seaborn as sns\n",
        "import numpy as np"
      ]
    },
    {
      "cell_type": "code",
      "execution_count": null,
      "id": "bcf40b02-80b6-4abc-a662-f7ed50a65181",
      "metadata": {
        "id": "bcf40b02-80b6-4abc-a662-f7ed50a65181"
      },
      "outputs": [],
      "source": [
        "orig_df = pd.read_csv('LVMPD-Stats.csv', parse_dates=['ReportedOn'])"
      ]
    },
    {
      "cell_type": "code",
      "execution_count": null,
      "id": "e1ca1d15-3955-4971-a3c4-c1a73b62edda",
      "metadata": {
        "id": "e1ca1d15-3955-4971-a3c4-c1a73b62edda"
      },
      "outputs": [],
      "source": [
        "df = pd.read_csv('LVMPD-Stats.csv', parse_dates=['ReportedOn'],\n",
        "                 usecols = ['X', 'Y', 'ReportedOn',\n",
        "                            'Area_Command','NIBRSOffenseCode',\n",
        "                            'VictimCount' ] )\n",
        "\n",
        "df['DayOfWeek'] = df['ReportedOn'].dt.day_name()\n",
        "df['Time' ]     = df['ReportedOn'].dt.hour\n",
        "df.drop(columns = 'ReportedOn', inplace=True)"
      ]
    },
    {
      "cell_type": "code",
      "execution_count": null,
      "id": "3ddc413d-ba3f-4204-bc18-7fdd4de8d221",
      "metadata": {
        "id": "3ddc413d-ba3f-4204-bc18-7fdd4de8d221"
      },
      "outputs": [],
      "source": [
        "\n",
        "df['X'] = df['X']\n",
        "df['Y'] = df['Y']\n",
        "df['Time'] = pd.factorize(df['Time'])[0]\n",
        "df['DayOfWeek'] = pd.factorize(df['DayOfWeek'])[0]\n",
        "df.Area_Command = pd.factorize(df['Area_Command'])[0]\n",
        "df.VictimCount = pd.factorize(df['VictimCount'])[0]\n",
        "df.NIBRSOffenseCode = pd.factorize(df['NIBRSOffenseCode'])[0]\n",
        "df.dropna(inplace=True)"
      ]
    },
    {
      "cell_type": "code",
      "execution_count": null,
      "id": "a9c6162f-9686-4195-818d-950a6368c686",
      "metadata": {
        "id": "a9c6162f-9686-4195-818d-950a6368c686"
      },
      "outputs": [],
      "source": [
        "df= df[['X', 'Y', 'Area_Command', 'NIBRSOffenseCode',\n",
        "       'DayOfWeek', 'Time','VictimCount']]"
      ]
    },
    {
      "cell_type": "code",
      "execution_count": null,
      "id": "a90bc78a-6d1b-4fe4-a1b0-8333aec1c851",
      "metadata": {
        "id": "a90bc78a-6d1b-4fe4-a1b0-8333aec1c851",
        "outputId": "6360fcec-53a0-4490-db43-8983fda32422",
        "colab": {
          "base_uri": "https://localhost:8080/"
        }
      },
      "outputs": [
        {
          "output_type": "execute_result",
          "data": {
            "text/plain": [
              "(275, 7)"
            ]
          },
          "metadata": {},
          "execution_count": 6
        }
      ],
      "source": [
        "df.values.shape"
      ]
    },
    {
      "cell_type": "markdown",
      "id": "651605b1-8d2c-4d3e-a09e-9aef6e550fc6",
      "metadata": {
        "id": "651605b1-8d2c-4d3e-a09e-9aef6e550fc6"
      },
      "source": [
        "# Goal\n",
        "The goal is to build a predictive model that is trained on the following data:\n",
        "* latitude and longitude (location)\n",
        "* Hour of the day\n",
        "* Day of the week\n",
        "* Area-of-command code: The police designation of the bureau of the operation.\n",
        "* Classification code for the crime committed\n",
        "  \n",
        "The predicted variable is the number of persons involved in the accident.\n"
      ]
    },
    {
      "cell_type": "markdown",
      "id": "0e54f0b8-83f9-4db9-88f9-f5a595342069",
      "metadata": {
        "id": "0e54f0b8-83f9-4db9-88f9-f5a595342069"
      },
      "source": [
        "## Task 1\n",
        "* print a few rows of the values in the dataframe ``df`` and explain what each column of data means.\n",
        "* identify the input and target variables\n",
        "* what is the range of values in each column? Do you need to scale, shift or normalize your data?\n"
      ]
    },
    {
      "cell_type": "markdown",
      "source": [
        "\n",
        "### Explanations\n",
        "Some Rows are printed below.\\\n",
        "X,Y: are the langitude and longitude respectively, of where the crime took place.\n",
        "Defined,Longitude ranges from -180 to 180, and Latitude ranges from -90 to 90\\\n",
        "Area_Command: this is the precinct or jurisdiction, a value representing which station handled it\\\n",
        "NIBRSOffenseCode:A category representing the type or severity of the incident. Certain crimes are in each.\\\n",
        "DayOfWeek: An integer value of which day of the week the incident took place\\\n",
        "Time: The hour value from the time of the incident.\\\n",
        "VictimCount:Amount of victims reported in the incident\n"
      ],
      "metadata": {
        "id": "iDwMRvSD-y1C"
      },
      "id": "iDwMRvSD-y1C"
    },
    {
      "cell_type": "markdown",
      "source": [
        "### Inputs and Target\n",
        "The **inputs**:  X,\tY,\tArea_Command,\tNIBRSOffenseCode,\tDayOfWeek,\tTime,\\\n",
        "The **Target** variable is 'VictimCount'\n"
      ],
      "metadata": {
        "id": "M_CzKyik_zsF"
      },
      "id": "M_CzKyik_zsF"
    },
    {
      "cell_type": "markdown",
      "source": [
        "### Printing Rows"
      ],
      "metadata": {
        "id": "yJF2zeKLAIPL"
      },
      "id": "yJF2zeKLAIPL"
    },
    {
      "cell_type": "code",
      "source": [
        "#Printing 5 rows of the df values\n",
        "print('X '+'Y '+'Area_Command '+'NIBRSOffenseCode '+'DayOfWeek '+ 'Time '+'VictimCount :',*df.values[20])\n",
        "df[20:30].style #printing ten rows of data"
      ],
      "metadata": {
        "id": "TISXvDhTKVgw",
        "colab": {
          "base_uri": "https://localhost:8080/",
          "height": 380
        },
        "outputId": "7cecda66-41e3-4f41-c6c1-2fc0e3888554"
      },
      "id": "TISXvDhTKVgw",
      "execution_count": null,
      "outputs": [
        {
          "output_type": "stream",
          "name": "stdout",
          "text": [
            "X Y Area_Command NIBRSOffenseCode DayOfWeek Time VictimCount : -115.11299775 36.1739381400001 2.0 1.0 2.0 2.0 0.0\n"
          ]
        },
        {
          "output_type": "execute_result",
          "data": {
            "text/plain": [
              "<pandas.io.formats.style.Styler at 0x795cfd7d8d00>"
            ],
            "text/html": [
              "<style type=\"text/css\">\n",
              "</style>\n",
              "<table id=\"T_a9ec4\" class=\"dataframe\">\n",
              "  <thead>\n",
              "    <tr>\n",
              "      <th class=\"blank level0\" >&nbsp;</th>\n",
              "      <th id=\"T_a9ec4_level0_col0\" class=\"col_heading level0 col0\" >X</th>\n",
              "      <th id=\"T_a9ec4_level0_col1\" class=\"col_heading level0 col1\" >Y</th>\n",
              "      <th id=\"T_a9ec4_level0_col2\" class=\"col_heading level0 col2\" >Area_Command</th>\n",
              "      <th id=\"T_a9ec4_level0_col3\" class=\"col_heading level0 col3\" >NIBRSOffenseCode</th>\n",
              "      <th id=\"T_a9ec4_level0_col4\" class=\"col_heading level0 col4\" >DayOfWeek</th>\n",
              "      <th id=\"T_a9ec4_level0_col5\" class=\"col_heading level0 col5\" >Time</th>\n",
              "      <th id=\"T_a9ec4_level0_col6\" class=\"col_heading level0 col6\" >VictimCount</th>\n",
              "    </tr>\n",
              "  </thead>\n",
              "  <tbody>\n",
              "    <tr>\n",
              "      <th id=\"T_a9ec4_level0_row0\" class=\"row_heading level0 row0\" >20</th>\n",
              "      <td id=\"T_a9ec4_row0_col0\" class=\"data row0 col0\" >-115.112998</td>\n",
              "      <td id=\"T_a9ec4_row0_col1\" class=\"data row0 col1\" >36.173938</td>\n",
              "      <td id=\"T_a9ec4_row0_col2\" class=\"data row0 col2\" >2</td>\n",
              "      <td id=\"T_a9ec4_row0_col3\" class=\"data row0 col3\" >1</td>\n",
              "      <td id=\"T_a9ec4_row0_col4\" class=\"data row0 col4\" >2</td>\n",
              "      <td id=\"T_a9ec4_row0_col5\" class=\"data row0 col5\" >2</td>\n",
              "      <td id=\"T_a9ec4_row0_col6\" class=\"data row0 col6\" >0</td>\n",
              "    </tr>\n",
              "    <tr>\n",
              "      <th id=\"T_a9ec4_level0_row1\" class=\"row_heading level0 row1\" >21</th>\n",
              "      <td id=\"T_a9ec4_row1_col0\" class=\"data row1 col0\" >-115.156989</td>\n",
              "      <td id=\"T_a9ec4_row1_col1\" class=\"data row1 col1\" >36.179111</td>\n",
              "      <td id=\"T_a9ec4_row1_col2\" class=\"data row1 col2\" >1</td>\n",
              "      <td id=\"T_a9ec4_row1_col3\" class=\"data row1 col3\" >1</td>\n",
              "      <td id=\"T_a9ec4_row1_col4\" class=\"data row1 col4\" >2</td>\n",
              "      <td id=\"T_a9ec4_row1_col5\" class=\"data row1 col5\" >11</td>\n",
              "      <td id=\"T_a9ec4_row1_col6\" class=\"data row1 col6\" >1</td>\n",
              "    </tr>\n",
              "    <tr>\n",
              "      <th id=\"T_a9ec4_level0_row2\" class=\"row_heading level0 row2\" >22</th>\n",
              "      <td id=\"T_a9ec4_row2_col0\" class=\"data row2 col0\" >-115.221019</td>\n",
              "      <td id=\"T_a9ec4_row2_col1\" class=\"data row2 col1\" >36.196659</td>\n",
              "      <td id=\"T_a9ec4_row2_col2\" class=\"data row2 col2\" >8</td>\n",
              "      <td id=\"T_a9ec4_row2_col3\" class=\"data row2 col3\" >1</td>\n",
              "      <td id=\"T_a9ec4_row2_col4\" class=\"data row2 col4\" >6</td>\n",
              "      <td id=\"T_a9ec4_row2_col5\" class=\"data row2 col5\" >1</td>\n",
              "      <td id=\"T_a9ec4_row2_col6\" class=\"data row2 col6\" >0</td>\n",
              "    </tr>\n",
              "    <tr>\n",
              "      <th id=\"T_a9ec4_level0_row3\" class=\"row_heading level0 row3\" >23</th>\n",
              "      <td id=\"T_a9ec4_row3_col0\" class=\"data row3 col0\" >-115.070355</td>\n",
              "      <td id=\"T_a9ec4_row3_col1\" class=\"data row3 col1\" >36.230058</td>\n",
              "      <td id=\"T_a9ec4_row3_col2\" class=\"data row3 col2\" >0</td>\n",
              "      <td id=\"T_a9ec4_row3_col3\" class=\"data row3 col3\" >1</td>\n",
              "      <td id=\"T_a9ec4_row3_col4\" class=\"data row3 col4\" >0</td>\n",
              "      <td id=\"T_a9ec4_row3_col5\" class=\"data row3 col5\" >12</td>\n",
              "      <td id=\"T_a9ec4_row3_col6\" class=\"data row3 col6\" >0</td>\n",
              "    </tr>\n",
              "    <tr>\n",
              "      <th id=\"T_a9ec4_level0_row4\" class=\"row_heading level0 row4\" >24</th>\n",
              "      <td id=\"T_a9ec4_row4_col0\" class=\"data row4 col0\" >-115.162821</td>\n",
              "      <td id=\"T_a9ec4_row4_col1\" class=\"data row4 col1\" >36.144180</td>\n",
              "      <td id=\"T_a9ec4_row4_col2\" class=\"data row4 col2\" >2</td>\n",
              "      <td id=\"T_a9ec4_row4_col3\" class=\"data row4 col3\" >1</td>\n",
              "      <td id=\"T_a9ec4_row4_col4\" class=\"data row4 col4\" >0</td>\n",
              "      <td id=\"T_a9ec4_row4_col5\" class=\"data row4 col5\" >4</td>\n",
              "      <td id=\"T_a9ec4_row4_col6\" class=\"data row4 col6\" >0</td>\n",
              "    </tr>\n",
              "    <tr>\n",
              "      <th id=\"T_a9ec4_level0_row5\" class=\"row_heading level0 row5\" >25</th>\n",
              "      <td id=\"T_a9ec4_row5_col0\" class=\"data row5 col0\" >-115.138937</td>\n",
              "      <td id=\"T_a9ec4_row5_col1\" class=\"data row5 col1\" >36.171743</td>\n",
              "      <td id=\"T_a9ec4_row5_col2\" class=\"data row5 col2\" >2</td>\n",
              "      <td id=\"T_a9ec4_row5_col3\" class=\"data row5 col3\" >1</td>\n",
              "      <td id=\"T_a9ec4_row5_col4\" class=\"data row5 col4\" >6</td>\n",
              "      <td id=\"T_a9ec4_row5_col5\" class=\"data row5 col5\" >8</td>\n",
              "      <td id=\"T_a9ec4_row5_col6\" class=\"data row5 col6\" >1</td>\n",
              "    </tr>\n",
              "    <tr>\n",
              "      <th id=\"T_a9ec4_level0_row6\" class=\"row_heading level0 row6\" >26</th>\n",
              "      <td id=\"T_a9ec4_row6_col0\" class=\"data row6 col0\" >-115.150980</td>\n",
              "      <td id=\"T_a9ec4_row6_col1\" class=\"data row6 col1\" >36.153165</td>\n",
              "      <td id=\"T_a9ec4_row6_col2\" class=\"data row6 col2\" >2</td>\n",
              "      <td id=\"T_a9ec4_row6_col3\" class=\"data row6 col3\" >1</td>\n",
              "      <td id=\"T_a9ec4_row6_col4\" class=\"data row6 col4\" >3</td>\n",
              "      <td id=\"T_a9ec4_row6_col5\" class=\"data row6 col5\" >7</td>\n",
              "      <td id=\"T_a9ec4_row6_col6\" class=\"data row6 col6\" >0</td>\n",
              "    </tr>\n",
              "    <tr>\n",
              "      <th id=\"T_a9ec4_level0_row7\" class=\"row_heading level0 row7\" >27</th>\n",
              "      <td id=\"T_a9ec4_row7_col0\" class=\"data row7 col0\" >-115.165538</td>\n",
              "      <td id=\"T_a9ec4_row7_col1\" class=\"data row7 col1\" >36.158935</td>\n",
              "      <td id=\"T_a9ec4_row7_col2\" class=\"data row7 col2\" >1</td>\n",
              "      <td id=\"T_a9ec4_row7_col3\" class=\"data row7 col3\" >1</td>\n",
              "      <td id=\"T_a9ec4_row7_col4\" class=\"data row7 col4\" >1</td>\n",
              "      <td id=\"T_a9ec4_row7_col5\" class=\"data row7 col5\" >8</td>\n",
              "      <td id=\"T_a9ec4_row7_col6\" class=\"data row7 col6\" >1</td>\n",
              "    </tr>\n",
              "    <tr>\n",
              "      <th id=\"T_a9ec4_level0_row8\" class=\"row_heading level0 row8\" >28</th>\n",
              "      <td id=\"T_a9ec4_row8_col0\" class=\"data row8 col0\" >-115.156544</td>\n",
              "      <td id=\"T_a9ec4_row8_col1\" class=\"data row8 col1\" >36.197396</td>\n",
              "      <td id=\"T_a9ec4_row8_col2\" class=\"data row8 col2\" >1</td>\n",
              "      <td id=\"T_a9ec4_row8_col3\" class=\"data row8 col3\" >1</td>\n",
              "      <td id=\"T_a9ec4_row8_col4\" class=\"data row8 col4\" >3</td>\n",
              "      <td id=\"T_a9ec4_row8_col5\" class=\"data row8 col5\" >0</td>\n",
              "      <td id=\"T_a9ec4_row8_col6\" class=\"data row8 col6\" >0</td>\n",
              "    </tr>\n",
              "    <tr>\n",
              "      <th id=\"T_a9ec4_level0_row9\" class=\"row_heading level0 row9\" >29</th>\n",
              "      <td id=\"T_a9ec4_row9_col0\" class=\"data row9 col0\" >-115.198753</td>\n",
              "      <td id=\"T_a9ec4_row9_col1\" class=\"data row9 col1\" >36.126212</td>\n",
              "      <td id=\"T_a9ec4_row9_col2\" class=\"data row9 col2\" >3</td>\n",
              "      <td id=\"T_a9ec4_row9_col3\" class=\"data row9 col3\" >1</td>\n",
              "      <td id=\"T_a9ec4_row9_col4\" class=\"data row9 col4\" >3</td>\n",
              "      <td id=\"T_a9ec4_row9_col5\" class=\"data row9 col5\" >9</td>\n",
              "      <td id=\"T_a9ec4_row9_col6\" class=\"data row9 col6\" >1</td>\n",
              "    </tr>\n",
              "  </tbody>\n",
              "</table>\n"
            ]
          },
          "metadata": {},
          "execution_count": 8
        }
      ]
    },
    {
      "cell_type": "markdown",
      "source": [
        "### Ranges of values\n",
        "Most of the data is clear and doesn't need to scale, shift or normalize,\n",
        "but the X,Y might be helped by shifting, to zero, since the X is usually near -115... and Y near 36... because all of the reported crimes have to be within Las Vegas, so from these values aren't really far from each other."
      ],
      "metadata": {
        "id": "A5q2WJPmANQJ"
      },
      "id": "A5q2WJPmANQJ"
    },
    {
      "cell_type": "code",
      "source": [
        "\n",
        "'''\n",
        "# Viewing the Ranges as encountered in the data:\n",
        "X: latitude ranges from -116 to about -114.6, valid latitudes are defined as -180 to 180\n",
        "Y: longitude ranges from about 35.07 to 37, valid longitudes are defined as -90 to 90\n",
        "Area_Command: jurisdiction commanding over incident, from 0-11, so 12 available\n",
        "NIBRSOffenseCode: Offense category, 0 1 or 2, corresponds to severity\n",
        "DayOfWeek: Day of week, 0 is Sunday up to 6 is Saturday.\n",
        "Time: from hour 0 to hour 23, 24hour time\n",
        "VictimCount:0 to 6 are seen to be reported in this data\n",
        "\n",
        "'''\n",
        "\n",
        "valuenames = ['X', 'Y', 'Area_Command', 'NIBRSOffenseCode',\n",
        "       'DayOfWeek', 'Time','VictimCount']\n",
        "labels = valuenames\n",
        "def printRange(valuenames):\n",
        "  for x in valuenames:\n",
        "    print(\"The value \",x, \" ranges from \",df[x].min(), \" to value \", df[x].max())\n",
        "printRange(valuenames)\n"
      ],
      "metadata": {
        "colab": {
          "base_uri": "https://localhost:8080/"
        },
        "id": "s9uH7BVqxZc6",
        "outputId": "f18acd51-2165-4c87-8bc7-c300a9b93c79"
      },
      "id": "s9uH7BVqxZc6",
      "execution_count": null,
      "outputs": [
        {
          "output_type": "stream",
          "name": "stdout",
          "text": [
            "The value  X  ranges from  -116.0  to value  -114.6255705\n",
            "The value  Y  ranges from  35.0684190000001  to value  37.0000000000001\n",
            "The value  Area_Command  ranges from  0  to value  11\n",
            "The value  NIBRSOffenseCode  ranges from  0  to value  2\n",
            "The value  DayOfWeek  ranges from  0  to value  6\n",
            "The value  Time  ranges from  0  to value  23\n",
            "The value  VictimCount  ranges from  0  to value  6\n"
          ]
        }
      ]
    },
    {
      "cell_type": "markdown",
      "id": "5549ecc9-3c0b-4efa-9a1f-340a25a1e4be",
      "metadata": {
        "id": "5549ecc9-3c0b-4efa-9a1f-340a25a1e4be"
      },
      "source": [
        "## Task 2\n",
        "\n",
        "* Create two `DataLoader` objects for training and testing based on the input and output variables. Pick a reasonable batch size and verify the shape of data by iterating over the one dataset and printing the shape of the batched data."
      ]
    },
    {
      "cell_type": "code",
      "execution_count": null,
      "id": "00fe4287-934b-4799-9e43-c3571acfbab4",
      "metadata": {
        "id": "00fe4287-934b-4799-9e43-c3571acfbab4"
      },
      "outputs": [],
      "source": [
        "#Creating two DataLoader objects, one for training and the other for testing\n",
        "#based on the input and output vars\n",
        "\n",
        "#The batch size chosen is 64\n",
        "#The shape of data is verified by iterating and the shape is found to be\n",
        "#shape of the batched data\n",
        "batch_size = 64\n",
        "train_dataset = df\n",
        "test_dataset = df\n",
        "\n",
        "train_loader = torch.utils.data.DataLoader(df.values,batch_size=batch_size,shuffle=True)\n",
        "test_loader = torch.utils.data.DataLoader(df.values,batch_size=batch_size,shuffle=False)\n"
      ]
    },
    {
      "cell_type": "code",
      "source": [
        "for batch in train_loader:\n",
        "  print(batch.size())"
      ],
      "metadata": {
        "colab": {
          "base_uri": "https://localhost:8080/"
        },
        "id": "wZe9GewsQotY",
        "outputId": "6d927d90-fd35-4229-9689-bbccd37f46c7"
      },
      "id": "wZe9GewsQotY",
      "execution_count": null,
      "outputs": [
        {
          "output_type": "stream",
          "name": "stdout",
          "text": [
            "torch.Size([64, 7])\n",
            "torch.Size([64, 7])\n",
            "torch.Size([64, 7])\n",
            "torch.Size([64, 7])\n",
            "torch.Size([19, 7])\n"
          ]
        }
      ]
    },
    {
      "cell_type": "markdown",
      "id": "1fb6f08c-5e70-4b14-b62c-4686d9f7aace",
      "metadata": {
        "id": "1fb6f08c-5e70-4b14-b62c-4686d9f7aace"
      },
      "source": [
        "## Task 3\n",
        "In this task you will try to predict number of crime victims as a **real number**. Therefore the machine learning problem is a **regression** problem.\n",
        "\n",
        "* Define the proper loss function for this task\n",
        "* what should the size of the predicted output be?\n",
        "* explain your choice of architecture, including how many layers you will be using\n",
        "* define an optimizer for training this model, choose a proper learning rate\n",
        "* write a training loop that obtains a batch out of the  training data and calculates the forward and backward passes over the neural network. Call the optimizer to update the weights of the neural network.\n",
        "* write a for loop that continues the training over a number of epochs. At the end of each epoch, calculate the ``MSE`` error on the test data and print it.\n",
        "* is your model training well? Adjust the learning rate, hidden size of the network, and try different activation functions and number of layers to achieve the best accuracy and report it."
      ]
    },
    {
      "cell_type": "code",
      "source": [
        "#Predicting the number of crime vicims as a REAL NUMBER, regression\n",
        "#Defining a proper loss function for a Regression problem is MSE\n",
        "import torch.nn as nn\n",
        "loss_function  =nn.MSELoss()\n",
        "\n",
        "#The SIZE of the predicted output tensor should thus be [batch_size,1] since the goal is to predict the victim count value"
      ],
      "metadata": {
        "id": "W4zpUdCXK__I"
      },
      "id": "W4zpUdCXK__I",
      "execution_count": 15,
      "outputs": []
    },
    {
      "cell_type": "markdown",
      "source": [
        "### Regression Model"
      ],
      "metadata": {
        "id": "S7nfcvCSP50s"
      },
      "id": "S7nfcvCSP50s"
    },
    {
      "cell_type": "code",
      "source": [
        "# Choice of architecture:\n",
        "# Amount of layers: 4\n",
        "# 4 Layers, input, hidden, and output. A simple choice to see effects\n",
        "# Activation function is sigmoid\n",
        "\n",
        "class RegressionModel(nn.Module):\n",
        "    def __init__(self, input_dim, hidden_dim, output_dim):\n",
        "        super(RegressionModel, self).__init__()\n",
        "\n",
        "        # Non-linearity\n",
        "        self.activation = nn.Sigmoid()\n",
        "        #self.activation = nn.Tanh()\n",
        "\n",
        "        # Input Layer\n",
        "        self.fc1 = nn.Linear(input_dim, hidden_dim)\n",
        "        # Hidden Layers\n",
        "        self.fc2 = nn.Linear(hidden_dim, hidden_dim)\n",
        "        self.fc3 = nn.Linear(hidden_dim, hidden_dim)\n",
        "        # Output Layer\n",
        "        self.fc4 = nn.Linear(hidden_dim, output_dim)\n",
        "\n",
        "    def forward(self, x):\n",
        "        h1  = self.activation(self.fc1(x))\n",
        "        h2  = self.activation(self.fc2(h1))\n",
        "        h3  = self.activation(self.fc3(h2))\n",
        "        out = self.activation(self.fc4(h3))\n",
        "        return out"
      ],
      "metadata": {
        "id": "dbszkTy6nI65"
      },
      "id": "dbszkTy6nI65",
      "execution_count": 150,
      "outputs": []
    },
    {
      "cell_type": "code",
      "source": [
        "#Instantiate the model, hyperparameters\n",
        "input_dim = 6\n",
        "hidden_dim = 64\n",
        "output_dim = 1\n",
        "learning_rate = 0.0001\n",
        "model = RegressionModel(input_dim,hidden_dim,output_dim)\n",
        "\n",
        "#Optimizer chosen SGD\n",
        "#Optimizer is ccalled to update the weights of the neural network\n",
        "optimizer = torch.optim.SGD(model.parameters(), lr=learning_rate)"
      ],
      "metadata": {
        "id": "YP2INJDwnLg-"
      },
      "id": "YP2INJDwnLg-",
      "execution_count": 151,
      "outputs": []
    },
    {
      "cell_type": "code",
      "source": [
        "#Training Loop\n",
        "# Loop that continues training over epochs\n",
        "# At end of each epoch MSE is calculated and printed\n",
        "n_iters = 3000\n",
        "num_epochs = n_iters / (len(train_dataset) / batch_size)\n",
        "num_epochs = int(np.ceil(num_epochs))\n",
        "iter = 0\n",
        "\n",
        "# Defining the loss function (Mean Squared Error)\n",
        "criterion = nn.MSELoss()\n",
        "\n",
        "# Splitting training data\n",
        "X_train, y_train = df[['X', 'Y', 'Area_Command', 'NIBRSOffenseCode', 'DayOfWeek', 'Time']], df['VictimCount']\n",
        "\n",
        "# Convert training data to PyTorch tensors\n",
        "X_train = torch.tensor(X_train.values, dtype=torch.float32)\n",
        "y_train = torch.tensor(y_train.values, dtype=torch.float32)\n",
        "\n",
        "# Training parameters\n",
        "num_epochs = 2000\n",
        "batch_size = 64\n",
        "\n",
        "for epoch in range(num_epochs):\n",
        "    for i in range(0, len(X_train), batch_size):\n",
        "        # Get a batch of data\n",
        "        batch_X = X_train[i:i + batch_size]\n",
        "        batch_y = y_train[i:i + batch_size]\n",
        "\n",
        "        # Forward pass\n",
        "        outputs = model(batch_X)\n",
        "        loss = criterion(outputs, batch_y)\n",
        "\n",
        "        # Backward pass and optimization\n",
        "        optimizer.zero_grad()\n",
        "        loss.backward()\n",
        "        optimizer.step()\n",
        "\n",
        "    # Print the loss for this epoch\n",
        "    if epoch % 100 == 0:\n",
        "      print(f'Epoch [{epoch}/{num_epochs}], Loss: {loss.item()}')\n",
        "\n",
        "#Model is reaches a plateau relatively fast, seems this is not suited for regression.\n",
        "#Adjusted above learning rate, hidden size, different activation functions and number of layers\n"
      ],
      "metadata": {
        "colab": {
          "base_uri": "https://localhost:8080/"
        },
        "id": "T-kNntufJfR1",
        "outputId": "166f0077-e3c3-4384-dd58-16c0ce023c48"
      },
      "id": "T-kNntufJfR1",
      "execution_count": 152,
      "outputs": [
        {
          "output_type": "stream",
          "name": "stderr",
          "text": [
            "/usr/local/lib/python3.10/dist-packages/torch/nn/modules/loss.py:535: UserWarning: Using a target size (torch.Size([64])) that is different to the input size (torch.Size([64, 1])). This will likely lead to incorrect results due to broadcasting. Please ensure they have the same size.\n",
            "  return F.mse_loss(input, target, reduction=self.reduction)\n",
            "/usr/local/lib/python3.10/dist-packages/torch/nn/modules/loss.py:535: UserWarning: Using a target size (torch.Size([19])) that is different to the input size (torch.Size([19, 1])). This will likely lead to incorrect results due to broadcasting. Please ensure they have the same size.\n",
            "  return F.mse_loss(input, target, reduction=self.reduction)\n"
          ]
        },
        {
          "output_type": "stream",
          "name": "stdout",
          "text": [
            "Epoch [0/2000], Loss: 0.6409657001495361\n",
            "Epoch [100/2000], Loss: 0.6400321125984192\n",
            "Epoch [200/2000], Loss: 0.6393081545829773\n",
            "Epoch [300/2000], Loss: 0.6387479305267334\n",
            "Epoch [400/2000], Loss: 0.638315737247467\n",
            "Epoch [500/2000], Loss: 0.6379839181900024\n",
            "Epoch [600/2000], Loss: 0.63773113489151\n",
            "Epoch [700/2000], Loss: 0.637540340423584\n",
            "Epoch [800/2000], Loss: 0.6373984217643738\n",
            "Epoch [900/2000], Loss: 0.6372948884963989\n",
            "Epoch [1000/2000], Loss: 0.6372215747833252\n",
            "Epoch [1100/2000], Loss: 0.6371721029281616\n",
            "Epoch [1200/2000], Loss: 0.6371410489082336\n",
            "Epoch [1300/2000], Loss: 0.6371245384216309\n",
            "Epoch [1400/2000], Loss: 0.6371191143989563\n",
            "Epoch [1500/2000], Loss: 0.637122392654419\n",
            "Epoch [1600/2000], Loss: 0.6371321678161621\n",
            "Epoch [1700/2000], Loss: 0.6371468305587769\n",
            "Epoch [1800/2000], Loss: 0.6371651291847229\n",
            "Epoch [1900/2000], Loss: 0.6371857523918152\n"
          ]
        }
      ]
    },
    {
      "cell_type": "markdown",
      "id": "86e3fc70-c6ce-4589-9930-128951290e8d",
      "metadata": {
        "id": "86e3fc70-c6ce-4589-9930-128951290e8d"
      },
      "source": [
        "## Task 4\n",
        "\n",
        "In this task, you will try to predict the number of crime victims as a **class number**. Therefore the machine learning problem is a **classification** problem.\n",
        "\n",
        "* Repeat all the steps in task 3. Specifically, pay attention to the differences with regression.\n",
        "* How would you find the number of classes on the output data?\n",
        "* How is the architecture different?\n",
        "* How is the loss function different?\n",
        "* Calculate the Accuracy for test data as the number of correct classified outputs divided by the total number of test data in each epoch. Report it at the end of each epoch\n",
        "* Try a few variations of learning rate, hidden dimensions, layers, etc. What is the best accuracy that you can get?"
      ]
    },
    {
      "cell_type": "code",
      "source": [
        "#Number of classes on output data, number of unique victim counts\n",
        "num_classes = len(df['VictimCount'].unique())\n",
        "print(\"Number of victim count classes:\", num_classes)"
      ],
      "metadata": {
        "colab": {
          "base_uri": "https://localhost:8080/"
        },
        "id": "O-2ulF0qXcPY",
        "outputId": "556fe38a-76e6-46f5-dae7-656c4ca5bb7b"
      },
      "id": "O-2ulF0qXcPY",
      "execution_count": 153,
      "outputs": [
        {
          "output_type": "stream",
          "name": "stdout",
          "text": [
            "Number of victim count classes: 7\n"
          ]
        }
      ]
    },
    {
      "cell_type": "code",
      "source": [
        "#Choosing a loss function for classification\n",
        "#This decreases as predicted converges to actual label\n",
        "loss = nn.CrossEntropyLoss()"
      ],
      "metadata": {
        "id": "nJkjv2E2Xx0t"
      },
      "id": "nJkjv2E2Xx0t",
      "execution_count": 154,
      "outputs": []
    },
    {
      "cell_type": "code",
      "source": [
        "# Define the model\n",
        "class ClassificationModel(nn.Module):\n",
        "    def __init__(self, input_dim, hidden_dim, num_classes):\n",
        "        super(ClassificationModel, self).__init__()\n",
        "\n",
        "        #activation\n",
        "        self.activation = nn.ReLU()\n",
        "\n",
        "        #Input, hidden, and output section of layers\n",
        "        self.fc1 = nn.Linear(input_size, hidden_dim)\n",
        "        self.fc2 = nn.Linear(hidden_dim, hidden_dim)\n",
        "        self.fc3 = nn.Linear(hidden_dim, num_classes)  # Output size matches the number of classes\n",
        "\n",
        "    def forward(self, x):\n",
        "        x = self.activation(self.fc1(x))\n",
        "        x = self.activation(self.fc2(x))\n",
        "        x = self.fc3(x)\n",
        "        return x"
      ],
      "metadata": {
        "id": "em7DIto3X2Bj"
      },
      "id": "em7DIto3X2Bj",
      "execution_count": 191,
      "outputs": []
    },
    {
      "cell_type": "code",
      "source": [
        "# Instantiate the model\n",
        "input_size = 6  # Assuming 6 input features\n",
        "num_classes = 7 # the amount of different possible victim counts from the data\n",
        "hidden_dim = 128\n",
        "\n",
        "model = ClassificationModel(input_size, hidden_dim, num_classes)\n",
        "\n",
        "#Loss function for classification (Cross-Entropy)\n",
        "criterion = nn.CrossEntropyLoss()\n",
        "\n",
        "# Define the optimizer ( trying Stochastic Gradient Descent with a learning rate of 0.01)\n",
        "# Also tryind Adam, with varyinng Learning Rates\n",
        "learning_rate = 0.01\n",
        "#optimizer = torch.optim.SGD(model.parameters(), lr=learning_rate)\n",
        "optimizer = torch.optim.Adam(model.parameters(), lr=learning_rate)\n"
      ],
      "metadata": {
        "id": "wvExcod0YAOp"
      },
      "id": "wvExcod0YAOp",
      "execution_count": 255,
      "outputs": []
    },
    {
      "cell_type": "code",
      "source": [
        "# Separate training data\n",
        "X_train = df[['X', 'Y', 'Area_Command', 'NIBRSOffenseCode', 'DayOfWeek', 'Time']]\n",
        "y_train = df['VictimCount']\n",
        "\n",
        "# Convert training data to PyTorch tensors\n",
        "X_train = torch.tensor(X_train.values, dtype=torch.float32)\n",
        "y_train = torch.tensor(y_train.values, dtype=torch.long)\n",
        "# Uses y_train as integer-encoded, for classification purposes\n",
        "\n",
        "# Training parameters\n",
        "num_epochs = 2000\n",
        "batch_size = 64\n",
        "\n",
        "for epoch in range(num_epochs):\n",
        "    for i in range(0, len(X_train), batch_size):\n",
        "        # Get a batch of data\n",
        "        batch_X = X_train[i:i + batch_size]\n",
        "        batch_y = y_train[i:i + batch_size]\n",
        "\n",
        "        # Forward pass\n",
        "        outputs = model(batch_X)\n",
        "        loss = criterion(outputs, batch_y)\n",
        "\n",
        "        # Backward pass and optimization\n",
        "        optimizer.zero_grad()\n",
        "        loss.backward()\n",
        "        optimizer.step()\n",
        "\n",
        "    # Print the loss and accuracy for this epoch\n",
        "    if epoch % 100 == 0:\n",
        "      correct=0\n",
        "      total=0\n",
        "      accuracy=0\n",
        "\n",
        "      for data in test_loader:\n",
        "        labels = batch_y\n",
        "        _, predicted = torch.max(outputs, 1)\n",
        "        total += labels.size(0)\n",
        "        correct += (predicted == labels).sum().item()\n",
        "        accuracy = 100 * correct / total\n",
        "\n",
        "      print(f'Epoch [{epoch}/{num_epochs}], Loss: {loss.item()}, Accuracy:{accuracy} ')"
      ],
      "metadata": {
        "colab": {
          "base_uri": "https://localhost:8080/"
        },
        "id": "ro8IoqnSYU6p",
        "outputId": "6ec2a89d-00af-44c6-8bbe-fba0b73c99d2"
      },
      "id": "ro8IoqnSYU6p",
      "execution_count": 256,
      "outputs": [
        {
          "output_type": "stream",
          "name": "stdout",
          "text": [
            "Epoch [0/2000], Loss: 11.28621768951416, Accuracy:5.2631578947368425 \n",
            "Epoch [100/2000], Loss: 0.8612499237060547, Accuracy:68.42105263157895 \n",
            "Epoch [200/2000], Loss: 0.6757121086120605, Accuracy:63.1578947368421 \n",
            "Epoch [300/2000], Loss: 0.4873584806919098, Accuracy:89.47368421052632 \n",
            "Epoch [400/2000], Loss: 0.47502151131629944, Accuracy:78.94736842105263 \n",
            "Epoch [500/2000], Loss: 0.34833773970603943, Accuracy:94.73684210526316 \n",
            "Epoch [600/2000], Loss: 0.24855546653270721, Accuracy:100.0 \n",
            "Epoch [700/2000], Loss: 0.2925220727920532, Accuracy:94.73684210526316 \n",
            "Epoch [800/2000], Loss: 0.24864749610424042, Accuracy:94.73684210526316 \n",
            "Epoch [900/2000], Loss: 0.31814804673194885, Accuracy:84.21052631578948 \n",
            "Epoch [1000/2000], Loss: 0.2147606611251831, Accuracy:94.73684210526316 \n",
            "Epoch [1100/2000], Loss: 0.21928438544273376, Accuracy:89.47368421052632 \n",
            "Epoch [1200/2000], Loss: 0.1539366990327835, Accuracy:94.73684210526316 \n",
            "Epoch [1300/2000], Loss: 0.23784640431404114, Accuracy:89.47368421052632 \n",
            "Epoch [1400/2000], Loss: 0.19054622948169708, Accuracy:94.73684210526316 \n",
            "Epoch [1500/2000], Loss: 0.09844089299440384, Accuracy:100.0 \n",
            "Epoch [1600/2000], Loss: 0.12854132056236267, Accuracy:94.73684210526316 \n",
            "Epoch [1700/2000], Loss: 0.10421489179134369, Accuracy:100.0 \n",
            "Epoch [1800/2000], Loss: 0.2120048850774765, Accuracy:94.73684210526316 \n",
            "Epoch [1900/2000], Loss: 0.10605630278587341, Accuracy:100.0 \n"
          ]
        }
      ]
    },
    {
      "cell_type": "markdown",
      "id": "84d2a304-6197-4cd9-b31e-745f7862f213",
      "metadata": {
        "id": "84d2a304-6197-4cd9-b31e-745f7862f213"
      },
      "source": [
        "## Task 5"
      ]
    },
    {
      "cell_type": "markdown",
      "id": "d6e4ef16-d828-45e5-bd58-1c49fcfecf52",
      "metadata": {
        "id": "d6e4ef16-d828-45e5-bd58-1c49fcfecf52"
      },
      "source": [
        "### Reflect on your results\n",
        "\n",
        "* Write a paragraph about your experience with tasks 3 and 4. How do you compare the results? Which one worked better? Why?\n",
        "* Write a piece of code that finds an example of a  miss-classification. Calculate the probabilities for the output classes and plot them in a bar chart. Also, indicate what is the correct class label."
      ]
    },
    {
      "cell_type": "markdown",
      "source": [
        "### Reflecting\n",
        "  Tasks 3 and 4 had many similarities, but the classification model works better in this situation. The regression model seems to get stuck on certain values in between.\n",
        "\n",
        "  For Regression, I ended up with 4 layers. 2 hidden, with hidden dimensions, 64 chosen, and attempted different activation functions but went back to sigmoid. This function seemed to lead to improvement but usually plateaud quickly regardless. Other activations did not seem appropriate for this kind of data and did not improve even with a lot of epochs. Variations in activations and hyperparameters didn't lead to too big of changes.\n",
        "\n",
        "  For classification, I switched the loss to Cross Entropy, the activation to ReLu, and the optimizer to Adam. The usage of ReLU made a significant difference in performance.And with trial and error, the combination of Adam optimzer with the hidden unit dimension gave the best results.Worked well.\n",
        "\n"
      ],
      "metadata": {
        "id": "LgAIn2YHfKoK"
      },
      "id": "LgAIn2YHfKoK"
    },
    {
      "cell_type": "markdown",
      "source": [
        "### Miss-classification"
      ],
      "metadata": {
        "id": "h-O_N9B-BKiJ"
      },
      "id": "h-O_N9B-BKiJ"
    },
    {
      "cell_type": "code",
      "source": [
        "#Finding an example of a miss-classification,\n",
        "#Note: I ran this section after running an earlier version of the model with more errors\n",
        "misclassified_indices = []\n",
        "input = X_train\n",
        "input_label = y_train\n",
        "for i in range(len(X_train)):\n",
        "    input_data = input[i:i + 1]  # getting some input,\n",
        "    true_label = input_label[i]  # True label for the input\n",
        "\n",
        "    # Forward pass to get the model prediction\n",
        "    with torch.no_grad():\n",
        "        outputs = model(input_data)\n",
        "        _, predicted = torch.max(outputs, 1)\n",
        "\n",
        "    if predicted.item() != true_label:\n",
        "        misclassified_indices.append(i)\n",
        "\n",
        "print(\"Misclassified Idx:\", misclassified_indices[0])"
      ],
      "metadata": {
        "colab": {
          "base_uri": "https://localhost:8080/"
        },
        "id": "NAdbOJab8wBF",
        "outputId": "3474bd46-1312-44ba-eff9-88947762af53"
      },
      "id": "NAdbOJab8wBF",
      "execution_count": 230,
      "outputs": [
        {
          "output_type": "stream",
          "name": "stdout",
          "text": [
            "Misclassified Idx: 2\n"
          ]
        }
      ]
    },
    {
      "cell_type": "code",
      "source": [
        "#Misclassified Value, notice model has highest classification prob at '0' but true is '1'\n",
        "print(\"Model output class probabilities,\", model(X_train[2]))\n",
        "print(\"Correct class label:\", y_train[2])"
      ],
      "metadata": {
        "colab": {
          "base_uri": "https://localhost:8080/"
        },
        "id": "YiHi4SM57cS2",
        "outputId": "a437271d-71a0-4d2d-f02f-9004de35b94d"
      },
      "id": "YiHi4SM57cS2",
      "execution_count": 238,
      "outputs": [
        {
          "output_type": "stream",
          "name": "stdout",
          "text": [
            "Model output class probabilities, tensor([ 3.8886,  3.1250,  1.0299,  0.6364, -0.8512, -2.6978, -4.0968],\n",
            "       grad_fn=<ViewBackward0>)\n",
            "Correct class label: tensor(1)\n"
          ]
        }
      ]
    },
    {
      "cell_type": "code",
      "source": [
        "# Using the above output raw tensor values for the 7 classes, convert to probabilities\n",
        "idx =  misclassified_indices[0]\n",
        "rawvalues = np.array([3.8886, 3.1250, 1.0299, 0.6364, -0.8512, -2.6978, -4.0968])\n",
        "correct_label = y_train[2]\n",
        "print(\"The correct label is :\",correct_label)\n",
        "# Calculating the probabilities using softmax, the exp proportion out of the sum\n",
        "# source:https://machinelearningmastery.com/softmax-activation-function-with-python/\n",
        "#Usually the softmax function is placed on all the outputs of the model.\n",
        "probs = np.exp(rawvalues) / np.exp(rawvalues).sum()\n",
        "# Class labels (indices 0 to 6)\n",
        "class_labels = np.arange(len(rawvalues))\n",
        "\n",
        "# Plotting the probabilities in a bar chart\n",
        "plt.figure(figsize=(8, 5))\n",
        "plt.bar(class_labels, probs, color='blue')\n",
        "plt.xlabel('Victim Count')\n",
        "plt.ylabel('Probability')\n",
        "plt.title('Misclassified Example')\n",
        "plt.xticks(class_labels)\n",
        "plt.show()"
      ],
      "metadata": {
        "colab": {
          "base_uri": "https://localhost:8080/",
          "height": 505
        },
        "id": "kG17UWj3_3R5",
        "outputId": "7188344a-3db5-4b92-f904-0d58b2b84fbb"
      },
      "id": "kG17UWj3_3R5",
      "execution_count": 257,
      "outputs": [
        {
          "output_type": "stream",
          "name": "stdout",
          "text": [
            "The correct label is : tensor(1)\n"
          ]
        },
        {
          "output_type": "display_data",
          "data": {
            "text/plain": [
              "<Figure size 800x500 with 1 Axes>"
            ],
            "image/png": "[encoded data removed]"
          },
          "metadata": {}
        }
      ]
    },
    {
      "cell_type": "markdown",
      "id": "5b000b0b-fa37-4f8d-8ec7-0a1e6e749424",
      "metadata": {
        "id": "5b000b0b-fa37-4f8d-8ec7-0a1e6e749424"
      },
      "source": [
        "## Task 6: Exploring the patterns in raw data\n",
        "\n",
        "* Plot the crime incidents as a `scatter` plot using the corrdinates. Use the color property of each datapoint to indicate the day of the week. Is there a pattern in the plot?\n",
        "* Now make a new scatter plot and use the color property of each datapoint to indicate the number of persons involved in the incident. Is there a pattern here?\n",
        "* use numpy (or pandas if you like) to sort the number of crimes reported by the day of the week. What days are most frequent?\n"
      ]
    },
    {
      "cell_type": "code",
      "source": [
        "#Scatter x and y, color is day of week\n",
        "\n",
        "#There does not seem to be an obvious pattern here, a few days like saturday\n",
        "#may loook like they  tend to a certain part of the city, but that just may be\n",
        "# by luck or the coloring.\n",
        "\n",
        "day_colors = {\n",
        "    0: 'blue',      # Sunday\n",
        "    1: 'green',     # Monday\n",
        "    2: 'red',       # Tuesday\n",
        "    3: 'purple',    # Wednesday\n",
        "    4: 'orange',    # Thursday\n",
        "    5: 'brown',     # Friday\n",
        "    6: 'black'      # Saturday\n",
        "}\n",
        "\n",
        "# Map day numbers to colors\n",
        "df['DayColor'] = df['DayOfWeek'].map(day_colors)\n",
        "\n",
        "# Plot the crime incidents as a scatter plot\n",
        "plt.figure(figsize=(20, 12))\n",
        "plt.scatter(df['X'], df['Y'], c=df['DayColor'], s=10, alpha=0.5)\n",
        "plt.xlabel('Longitude (X)')\n",
        "plt.ylabel('Latitude (Y)')\n",
        "plt.title('Crime Incidents by Day of the Week')\n",
        "plt.show()"
      ],
      "metadata": {
        "colab": {
          "base_uri": "https://localhost:8080/",
          "height": 492
        },
        "id": "mPxmCyiWaunG",
        "outputId": "131eafbc-c027-4ad7-d46b-c104e6f1ca3d"
      },
      "id": "mPxmCyiWaunG",
      "execution_count": null,
      "outputs": [
        {
          "output_type": "display_data",
          "data": {
            "text/plain": [
              "<Figure size 2000x1200 with 1 Axes>"
            ],
            "image/png": "[encoded data removed]"
          },
          "metadata": {}
        }
      ]
    },
    {
      "cell_type": "code",
      "source": [
        "#Scatter x,y, color is number of persons involved\n",
        "\n",
        "#The pattern seen here is generally that the vast majority of crimes are low in\n",
        "# victim count, the majority having 0 or 1 victims.\n",
        "# The crimes with high counts are extremely rare.\n",
        "\n",
        "# Plot the crime incidents as a scatter plot\n",
        "plt.figure(figsize=(20, 12))\n",
        "plt.scatter(df['X'], df['Y'], c=df['VictimCount'], cmap='viridis', s=10, alpha=0.5)\n",
        "plt.xlabel('Longitude (X)')\n",
        "plt.ylabel('Latitude (Y)')\n",
        "plt.title('Crime Incidents by Number of Victims Involved')\n",
        "plt.colorbar(label='Number of Victims Involved')\n",
        "plt.show()"
      ],
      "metadata": {
        "colab": {
          "base_uri": "https://localhost:8080/",
          "height": 539
        },
        "id": "UyIwolLGaypK",
        "outputId": "118a4b6c-76d9-42bb-87e4-3a5befea015e"
      },
      "id": "UyIwolLGaypK",
      "execution_count": null,
      "outputs": [
        {
          "output_type": "display_data",
          "data": {
            "text/plain": [
              "<Figure size 2000x1200 with 2 Axes>"
            ],
            "image/png": "[encoded data removed]"
          },
          "metadata": {}
        }
      ]
    },
    {
      "cell_type": "code",
      "source": [
        "#Sorting crimes reported by day of week\n",
        "#The day that is most frequent is found to be Thursday\n",
        "\n",
        "day_names = {\n",
        "    0: 'Sunday',    1: 'Monday',   2: 'Tuesday',\n",
        "    3: 'Wednesday', 4: 'Thursday', 5: 'Friday',\n",
        "    6: 'Saturday'\n",
        "}\n",
        "\n",
        "crime_counts = df.groupby('DayOfWeek').size().reset_index()\n",
        "crime_counts.columns = ['DayName', 'Count']\n",
        "\n",
        "# Sort the counts in descending order\n",
        "sorted_crime_counts = crime_counts.sort_values(by='Count', ascending=False)\n",
        "\n",
        "# Print the sorted counts\n",
        "for x in sorted_crime_counts.values:\n",
        "  print( day_names[x[0]] ,x[1])"
      ],
      "metadata": {
        "colab": {
          "base_uri": "https://localhost:8080/"
        },
        "id": "IyyTrEhPa4e7",
        "outputId": "efbefe17-a3c0-4b57-a28c-2f92b5f26b95"
      },
      "id": "IyyTrEhPa4e7",
      "execution_count": null,
      "outputs": [
        {
          "output_type": "stream",
          "name": "stdout",
          "text": [
            "Thursday 51\n",
            "Wednesday 44\n",
            "Friday 43\n",
            "Sunday 40\n",
            "Monday 37\n",
            "Tuesday 32\n",
            "Saturday 28\n"
          ]
        }
      ]
    }
  ],
  "metadata": {
    "kernelspec": {
      "display_name": "Python 3 (ipykernel)",
      "language": "python",
      "name": "python3"
    },
    "language_info": {
      "codemirror_mode": {
        "name": "ipython",
        "version": 3
      },
      "file_extension": ".py",
      "mimetype": "text/x-python",
      "name": "python",
      "nbconvert_exporter": "python",
      "pygments_lexer": "ipython3",
      "version": "3.11.5"
    },
    "colab": {
      "provenance": []
    }
  },
  "nbformat": 4,
  "nbformat_minor": 5
}